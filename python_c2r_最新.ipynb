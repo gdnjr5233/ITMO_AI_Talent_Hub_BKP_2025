{
 "cells": [
  {
   "cell_type": "code",
   "execution_count": 19,
   "metadata": {},
   "outputs": [],
   "source": [
    "# 1. 初始化环境\n",
    "\n",
    "import pandas as pd\n",
    "import numpy as np\n",
    "from datasets import Dataset\n",
    "from sklearn.model_selection import train_test_split\n",
    "import torch\n",
    "from transformers import (\n",
    "    T5ForConditionalGeneration,\n",
    "    T5Tokenizer,\n",
    "    Seq2SeqTrainingArguments,\n",
    "    Seq2SeqTrainer,\n",
    "    DataCollatorForSeq2Seq,\n",
    "    TrainerCallback\n",
    ")"
   ]
  },
  {
   "cell_type": "code",
   "execution_count": 20,
   "metadata": {},
   "outputs": [
    {
     "name": "stderr",
     "output_type": "stream",
     "text": [
      "Special tokens have been added in the vocabulary, make sure the associated word embeddings are fine-tuned or trained.\n"
     ]
    }
   ],
   "source": [
    "# 2. 初始化模型和tokenizer\n",
    "\n",
    "model_name = \"utrobinmv/t5_translate_en_ru_zh_small_1024\"\n",
    "tokenizer = T5Tokenizer.from_pretrained(model_name)\n",
    "model = T5ForConditionalGeneration.from_pretrained(model_name)"
   ]
  },
  {
   "cell_type": "code",
   "execution_count": 21,
   "metadata": {},
   "outputs": [],
   "source": [
    "# 3. 数据预处理函数\n",
    "\n",
    "def preprocess_data(examples):\n",
    "    # 数据清洗和转换\n",
    "    inputs = [\"translate to ru: \" + str(zh) for zh in examples[\"comment_zh\"]]\n",
    "    targets = [str(ru) for ru in examples[\"comment_ru\"]]\n",
    "    \n",
    "    # Tokenize处理\n",
    "    model_inputs = tokenizer(\n",
    "        inputs,\n",
    "        max_length=512,\n",
    "        truncation=True,\n",
    "        padding=\"max_length\",\n",
    "        return_tensors=\"np\"\n",
    "    )\n",
    "    \n",
    "    labels = tokenizer(\n",
    "        text_target=targets,\n",
    "        max_length=512,\n",
    "        truncation=True,\n",
    "        padding=\"max_length\",\n",
    "        return_tensors=\"np\"\n",
    "    )[\"input_ids\"]\n",
    "\n",
    "    # 有效性检查（矢量化操作）\n",
    "    valid_mask = (\n",
    "        (model_inputs[\"input_ids\"] < tokenizer.vocab_size).all(axis=1) & \n",
    "        (labels < tokenizer.vocab_size).all(axis=1))\n",
    "    \n",
    "    return {\n",
    "        \"input_ids\": model_inputs[\"input_ids\"][valid_mask].tolist(),\n",
    "        \"attention_mask\": model_inputs[\"attention_mask\"][valid_mask].tolist(),\n",
    "        \"labels\": labels[valid_mask].tolist()\n",
    "    }"
   ]
  },
  {
   "cell_type": "code",
   "execution_count": 22,
   "metadata": {},
   "outputs": [
    {
     "name": "stdout",
     "output_type": "stream",
     "text": [
      "原始数据量: 1258\n",
      "清洗后数据量: 1258\n"
     ]
    }
   ],
   "source": [
    "# 4. 数据准备流程\n",
    "\n",
    "# 加载并清洗数据\n",
    "df = pd.read_csv(r\"C:\\Users\\gdnjr5233_YOLO\\Desktop\\ВКР_2025\\datasets\\data.csv\")  # 替换为你的CSV路径\n",
    "print(f\"原始数据量: {len(df)}\")\n",
    "\n",
    "# 数据清洗\n",
    "df = df.dropna(subset=[\"comment_zh\", \"comment_ru\"])\n",
    "df = df[df[\"comment_zh\"].apply(lambda x: isinstance(x, str))]\n",
    "df = df[df[\"comment_ru\"].apply(lambda x: isinstance(x, str))]\n",
    "print(f\"清洗后数据量: {len(df)}\")\n",
    "\n",
    "# 数据集划分\n",
    "train_df, eval_df = train_test_split(df, test_size=0.1, random_state=42)\n",
    "\n",
    "# 转换为HuggingFace Dataset格式\n",
    "train_dataset = Dataset.from_pandas(train_df.reset_index(drop=True))\n",
    "eval_dataset = Dataset.from_pandas(eval_df.reset_index(drop=True))"
   ]
  },
  {
   "cell_type": "code",
   "execution_count": 23,
   "metadata": {},
   "outputs": [
    {
     "data": {
      "application/vnd.jupyter.widget-view+json": {
       "model_id": "e7c0db91a6ff468f85cf494e59efb5e8",
       "version_major": 2,
       "version_minor": 0
      },
      "text/plain": [
       "Map:   0%|          | 0/1132 [00:00<?, ? examples/s]"
      ]
     },
     "metadata": {},
     "output_type": "display_data"
    },
    {
     "name": "stdout",
     "output_type": "stream",
     "text": [
      "有效训练样本: 1132\n"
     ]
    },
    {
     "data": {
      "application/vnd.jupyter.widget-view+json": {
       "model_id": "8eeb99a92b2e4838aa91171c8204e482",
       "version_major": 2,
       "version_minor": 0
      },
      "text/plain": [
       "Map:   0%|          | 0/126 [00:00<?, ? examples/s]"
      ]
     },
     "metadata": {},
     "output_type": "display_data"
    },
    {
     "name": "stdout",
     "output_type": "stream",
     "text": [
      "有效验证样本: 126\n"
     ]
    }
   ],
   "source": [
    "# 5. 应用数据预处理\n",
    "\n",
    "try:\n",
    "    train_dataset = train_dataset.map(\n",
    "        preprocess_data,\n",
    "        batched=True,\n",
    "        batch_size=32,\n",
    "        remove_columns=train_df.columns.tolist()\n",
    "    )\n",
    "    print(f\"有效训练样本: {len(train_dataset)}\")\n",
    "except Exception as e:\n",
    "    print(f\"训练集预处理错误: {str(e)}\")\n",
    "\n",
    "try:\n",
    "    eval_dataset = eval_dataset.map(\n",
    "        preprocess_data,\n",
    "        batched=True,\n",
    "        batch_size=32,\n",
    "        remove_columns=eval_df.columns.tolist()\n",
    "    )\n",
    "    print(f\"有效验证样本: {len(eval_dataset)}\")\n",
    "except Exception as e:\n",
    "    print(f\"验证集预处理错误: {str(e)}\")"
   ]
  },
  {
   "cell_type": "code",
   "execution_count": 27,
   "metadata": {},
   "outputs": [],
   "source": [
    "# 6：训练配置\n",
    "\n",
    "class SafeTrainingCallback(TrainerCallback):\n",
    "    def on_step_end(self, args, state, control, **kwargs):\n",
    "        if state.log_history and \"loss\" in state.log_history[-1]:\n",
    "            if state.log_history[-1][\"loss\"] > 1e5:\n",
    "                print(\"\\n检测到异常损失值，停止训练！\")\n",
    "                control.should_training_stop = True\n",
    "\n",
    "training_args = Seq2SeqTrainingArguments(\n",
    "    output_dir=\"./t5-comment-translator\",\n",
    "    evaluation_strategy=\"epoch\",  # 评估策略保持epoch\n",
    "    save_strategy=\"epoch\",        # 新增：将保存策略也设为epoch\n",
    "    learning_rate=3e-5,\n",
    "    per_device_train_batch_size=4,\n",
    "    per_device_eval_batch_size=4,\n",
    "    weight_decay=0.01,\n",
    "    num_train_epochs=5,\n",
    "    predict_with_generate=True,\n",
    "    fp16=True if torch.cuda.is_available() else False,\n",
    "    logging_steps=50,\n",
    "    save_total_limit=2,\n",
    "    gradient_accumulation_steps=2,\n",
    "    load_best_model_at_end=True,  # 需要配合metric_for_best_model使用\n",
    "    metric_for_best_model=\"eval_bleu_score\",  # 需要与compute_metrics返回的指标名称一致\n",
    "    greater_is_better=True,       # BLEU分数越高越好\n",
    "    report_to=\"none\"\n",
    ")"
   ]
  },
  {
   "cell_type": "code",
   "execution_count": 28,
   "metadata": {},
   "outputs": [
    {
     "name": "stdout",
     "output_type": "stream",
     "text": [
      "验证训练配置:\n",
      "评估策略: epoch\n",
      "保存策略: epoch\n",
      "最佳模型指标: eval_bleu_score\n"
     ]
    }
   ],
   "source": [
    "# 在创建trainer之后、开始训练之前添加\n",
    "print(\"验证训练配置:\")\n",
    "print(f\"评估策略: {training_args.evaluation_strategy}\")\n",
    "print(f\"保存策略: {training_args.save_strategy}\")\n",
    "print(f\"最佳模型指标: {training_args.metric_for_best_model}\")\n",
    "\n",
    "# 应该输出：\n",
    "# 评估策略: epoch\n",
    "# 保存策略: epoch\n",
    "# 最佳模型指标: eval_bleu_score"
   ]
  },
  {
   "cell_type": "code",
   "execution_count": 29,
   "metadata": {},
   "outputs": [],
   "source": [
    "# 7. 创建Trainer\n",
    "\n",
    "from transformers import DataCollatorForSeq2Seq\n",
    "\n",
    "data_collator = DataCollatorForSeq2Seq(\n",
    "    tokenizer,\n",
    "    model=model,\n",
    "    pad_to_multiple_of=8\n",
    ")\n",
    "\n",
    "trainer = Seq2SeqTrainer(\n",
    "    model=model,\n",
    "    args=training_args,\n",
    "    train_dataset=train_dataset,\n",
    "    eval_dataset=eval_dataset,\n",
    "    data_collator=data_collator,\n",
    "    tokenizer=tokenizer,\n",
    "    callbacks=[SafeTrainingCallback()]\n",
    ")"
   ]
  },
  {
   "cell_type": "code",
   "execution_count": null,
   "metadata": {},
   "outputs": [
    {
     "name": "stdout",
     "output_type": "stream",
     "text": [
      "启动训练...\n"
     ]
    },
    {
     "data": {
      "application/vnd.jupyter.widget-view+json": {
       "model_id": "28bfb0ca3c7a44ce91b88c9860c77d18",
       "version_major": 2,
       "version_minor": 0
      },
      "text/plain": [
       "  0%|          | 0/705 [00:00<?, ?it/s]"
      ]
     },
     "metadata": {},
     "output_type": "display_data"
    }
   ],
   "source": [
    "# 8. 开始训练（带崩溃保护）\n",
    "\n",
    "try:\n",
    "    print(\"启动训练...\")\n",
    "    train_result = trainer.train()\n",
    "except Exception as e:\n",
    "    print(f\"\\n训练异常中断: {str(e)}\")\n",
    "    print(\"尝试保存当前进度...\")\n",
    "    trainer.save_model(\"./interrupted_model\")\n",
    "    print(\"已保存恢复检查点到 interrupted_model 目录\")\n",
    "\n",
    "# 保存最终模型\n",
    "trainer.save_model(\"./t5-comment-translator/final_model\")\n",
    "print(\"训练完成！\")"
   ]
  },
  {
   "cell_type": "code",
   "execution_count": null,
   "metadata": {},
   "outputs": [],
   "source": []
  },
  {
   "cell_type": "code",
   "execution_count": null,
   "metadata": {},
   "outputs": [],
   "source": []
  },
  {
   "cell_type": "code",
   "execution_count": null,
   "metadata": {},
   "outputs": [],
   "source": []
  }
 ],
 "metadata": {
  "kernelspec": {
   "display_name": "Python 3",
   "language": "python",
   "name": "python3"
  },
  "language_info": {
   "codemirror_mode": {
    "name": "ipython",
    "version": 3
   },
   "file_extension": ".py",
   "mimetype": "text/x-python",
   "name": "python",
   "nbconvert_exporter": "python",
   "pygments_lexer": "ipython3",
   "version": "3.10.1"
  }
 },
 "nbformat": 4,
 "nbformat_minor": 2
}
