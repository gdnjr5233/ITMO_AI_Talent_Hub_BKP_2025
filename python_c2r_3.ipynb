{
 "cells": [
  {
   "cell_type": "code",
   "execution_count": 17,
   "metadata": {},
   "outputs": [
    {
     "name": "stdout",
     "output_type": "stream",
     "text": [
      "Requirement already satisfied: transformers in c:\\python310\\lib\\site-packages (4.41.2)\n",
      "Requirement already satisfied: datasets in c:\\users\\gdnjr5233_yolo\\appdata\\roaming\\python\\python310\\site-packages (3.2.0)\n",
      "Requirement already satisfied: sentencepiece in c:\\users\\gdnjr5233_yolo\\appdata\\roaming\\python\\python310\\site-packages (0.2.0)\n",
      "Requirement already satisfied: rouge-score in c:\\python310\\lib\\site-packages (0.1.2)\n",
      "Requirement already satisfied: pandas in c:\\python310\\lib\\site-packages (2.1.3)\n",
      "Requirement already satisfied: matplotlib in c:\\python310\\lib\\site-packages (3.8.1)\n",
      "Requirement already satisfied: filelock in c:\\python310\\lib\\site-packages (from transformers) (3.13.1)\n",
      "Requirement already satisfied: huggingface-hub<1.0,>=0.23.0 in c:\\users\\gdnjr5233_yolo\\appdata\\roaming\\python\\python310\\site-packages (from transformers) (0.26.2)\n",
      "Requirement already satisfied: numpy>=1.17 in c:\\python310\\lib\\site-packages (from transformers) (1.25.2)\n",
      "Requirement already satisfied: packaging>=20.0 in c:\\users\\gdnjr5233_yolo\\appdata\\roaming\\python\\python310\\site-packages (from transformers) (24.0)\n",
      "Requirement already satisfied: pyyaml>=5.1 in c:\\python310\\lib\\site-packages (from transformers) (6.0.2)\n",
      "Requirement already satisfied: regex!=2019.12.17 in c:\\python310\\lib\\site-packages (from transformers) (2023.10.3)\n",
      "Requirement already satisfied: requests in c:\\python310\\lib\\site-packages (from transformers) (2.32.3)\n",
      "Requirement already satisfied: tokenizers<0.20,>=0.19 in c:\\python310\\lib\\site-packages (from transformers) (0.19.1)\n",
      "Requirement already satisfied: safetensors>=0.4.1 in c:\\python310\\lib\\site-packages (from transformers) (0.4.3)\n",
      "Requirement already satisfied: tqdm>=4.27 in c:\\users\\gdnjr5233_yolo\\appdata\\roaming\\python\\python310\\site-packages (from transformers) (4.67.1)\n",
      "Requirement already satisfied: pyarrow>=15.0.0 in c:\\users\\gdnjr5233_yolo\\appdata\\roaming\\python\\python310\\site-packages (from datasets) (18.0.0)\n",
      "Requirement already satisfied: dill<0.3.9,>=0.3.0 in c:\\users\\gdnjr5233_yolo\\appdata\\roaming\\python\\python310\\site-packages (from datasets) (0.3.8)\n",
      "Requirement already satisfied: xxhash in c:\\python310\\lib\\site-packages (from datasets) (3.4.1)\n",
      "Requirement already satisfied: multiprocess<0.70.17 in c:\\users\\gdnjr5233_yolo\\appdata\\roaming\\python\\python310\\site-packages (from datasets) (0.70.16)\n",
      "Requirement already satisfied: fsspec<=2024.9.0,>=2023.1.0 in c:\\python310\\lib\\site-packages (from fsspec[http]<=2024.9.0,>=2023.1.0->datasets) (2023.12.1)\n",
      "Requirement already satisfied: aiohttp in c:\\python310\\lib\\site-packages (from datasets) (3.9.3)\n",
      "Requirement already satisfied: absl-py in c:\\python310\\lib\\site-packages (from rouge-score) (2.1.0)\n",
      "Requirement already satisfied: nltk in c:\\python310\\lib\\site-packages (from rouge-score) (3.8.1)\n",
      "Requirement already satisfied: six>=1.14.0 in c:\\python310\\lib\\site-packages (from rouge-score) (1.16.0)\n",
      "Requirement already satisfied: python-dateutil>=2.8.2 in c:\\python310\\lib\\site-packages (from pandas) (2.8.2)\n",
      "Requirement already satisfied: pytz>=2020.1 in c:\\python310\\lib\\site-packages (from pandas) (2021.3)\n",
      "Requirement already satisfied: tzdata>=2022.1 in c:\\python310\\lib\\site-packages (from pandas) (2023.3)\n",
      "Requirement already satisfied: contourpy>=1.0.1 in c:\\python310\\lib\\site-packages (from matplotlib) (1.2.0)\n",
      "Requirement already satisfied: cycler>=0.10 in c:\\python310\\lib\\site-packages (from matplotlib) (0.12.1)\n",
      "Requirement already satisfied: fonttools>=4.22.0 in c:\\python310\\lib\\site-packages (from matplotlib) (4.42.1)\n",
      "Requirement already satisfied: kiwisolver>=1.3.1 in c:\\python310\\lib\\site-packages (from matplotlib) (1.4.5)\n",
      "Requirement already satisfied: pillow>=8 in c:\\python310\\lib\\site-packages (from matplotlib) (11.0.0)\n",
      "Requirement already satisfied: pyparsing>=2.3.1 in c:\\python310\\lib\\site-packages (from matplotlib) (3.0.6)\n",
      "Requirement already satisfied: aiosignal>=1.1.2 in c:\\python310\\lib\\site-packages (from aiohttp->datasets) (1.3.1)\n",
      "Requirement already satisfied: attrs>=17.3.0 in c:\\python310\\lib\\site-packages (from aiohttp->datasets) (22.2.0)\n",
      "Requirement already satisfied: frozenlist>=1.1.1 in c:\\python310\\lib\\site-packages (from aiohttp->datasets) (1.4.1)\n",
      "Requirement already satisfied: multidict<7.0,>=4.5 in c:\\python310\\lib\\site-packages (from aiohttp->datasets) (6.0.5)\n",
      "Requirement already satisfied: yarl<2.0,>=1.0 in c:\\python310\\lib\\site-packages (from aiohttp->datasets) (1.9.4)\n",
      "Requirement already satisfied: async-timeout<5.0,>=4.0 in c:\\python310\\lib\\site-packages (from aiohttp->datasets) (4.0.3)\n",
      "Requirement already satisfied: typing-extensions>=3.7.4.3 in c:\\python310\\lib\\site-packages (from huggingface-hub<1.0,>=0.23.0->transformers) (4.12.2)\n",
      "Requirement already satisfied: charset-normalizer<4,>=2 in c:\\python310\\lib\\site-packages (from requests->transformers) (3.3.2)\n",
      "Requirement already satisfied: idna<4,>=2.5 in c:\\python310\\lib\\site-packages (from requests->transformers) (2.10)\n",
      "Requirement already satisfied: urllib3<3,>=1.21.1 in c:\\users\\gdnjr5233_yolo\\appdata\\roaming\\python\\python310\\site-packages (from requests->transformers) (1.26.20)\n",
      "Requirement already satisfied: certifi>=2017.4.17 in c:\\users\\gdnjr5233_yolo\\appdata\\roaming\\python\\python310\\site-packages (from requests->transformers) (2024.8.30)\n",
      "Requirement already satisfied: colorama in c:\\users\\gdnjr5233_yolo\\appdata\\roaming\\python\\python310\\site-packages (from tqdm>=4.27->transformers) (0.4.6)\n",
      "Requirement already satisfied: click in c:\\python310\\lib\\site-packages (from nltk->rouge-score) (8.1.7)\n",
      "Requirement already satisfied: joblib in c:\\python310\\lib\\site-packages (from nltk->rouge-score) (1.3.2)\n"
     ]
    },
    {
     "name": "stderr",
     "output_type": "stream",
     "text": [
      "WARNING: Ignoring invalid distribution -penai (c:\\python310\\lib\\site-packages)\n",
      "WARNING: Ignoring invalid distribution -penai (c:\\python310\\lib\\site-packages)\n",
      "WARNING: Ignoring invalid distribution -penai (c:\\python310\\lib\\site-packages)\n",
      "\n",
      "[notice] A new release of pip is available: 25.0 -> 25.0.1\n",
      "[notice] To update, run: python.exe -m pip install --upgrade pip\n"
     ]
    }
   ],
   "source": [
    "# ========== 1. 环境准备 ==========\n",
    "\n",
    "!pip install transformers datasets sentencepiece rouge-score pandas matplotlib"
   ]
  },
  {
   "cell_type": "code",
   "execution_count": 22,
   "metadata": {},
   "outputs": [],
   "source": [
    "# ========== 2. 导入依赖 ==========\n",
    "\n",
    "import os\n",
    "import re\n",
    "import numpy as np\n",
    "import pandas as pd\n",
    "from functools import partial\n",
    "from datasets import load_dataset, Dataset\n",
    "from transformers import (\n",
    "    T5ForConditionalGeneration,\n",
    "    T5Tokenizer,\n",
    "    Seq2SeqTrainingArguments,\n",
    "    Seq2SeqTrainer,\n",
    "    TrainerCallback\n",
    ")\n",
    "from rouge_score import rouge_scorer"
   ]
  },
  {
   "cell_type": "code",
   "execution_count": 23,
   "metadata": {},
   "outputs": [
    {
     "data": {
      "text/plain": [
       "DatasetDict({\n",
       "    train: Dataset({\n",
       "        features: ['file_path', 'code', 'code_comment_type', 'comment_zh', 'comment_ru', 'comment_en', 'input_text', 'target_text'],\n",
       "        num_rows: 1258\n",
       "    })\n",
       "})"
      ]
     },
     "execution_count": 23,
     "metadata": {},
     "output_type": "execute_result"
    }
   ],
   "source": [
    "# ========== 3. 数据准备 ==========\n",
    "\n",
    "# 加载数据集\n",
    "# 读取CSV并转换为Dataset\n",
    "df = pd.read_csv(r\"C:\\Users\\gdnjr5233_YOLO\\Desktop\\ВКР_2025\\datasets\\data.csv\")\n",
    "dataset = load_dataset('csv', data_files={'train': r\"C:\\Users\\gdnjr5233_YOLO\\Desktop\\ВКР_2025\\datasets\\data.csv\"})\n",
    "\n",
    "# 添加T5所需前缀\n",
    "def add_prefix(example):\n",
    "    example[\"input_text\"] = f\"translate to ru: {example['comment_zh']}\"\n",
    "    example[\"target_text\"] = example[\"comment_ru\"]\n",
    "    return example\n",
    "\n",
    "dataset = dataset.map(add_prefix)\n",
    "dataset"
   ]
  },
  {
   "cell_type": "code",
   "execution_count": 24,
   "metadata": {},
   "outputs": [
    {
     "name": "stdout",
     "output_type": "stream",
     "text": [
      "Null value check:\n",
      "file_path            0\n",
      "code                 0\n",
      "code_comment_type    0\n",
      "comment_zh           0\n",
      "comment_ru           0\n",
      "comment_en           0\n",
      "dtype: int64\n"
     ]
    },
    {
     "data": {
      "image/png": "[encoded data removed]",
      "text/plain": [
       "<Figure size 640x480 with 1 Axes>"
      ]
     },
     "metadata": {},
     "output_type": "display_data"
    }
   ],
   "source": [
    "# 检查数据集中是否有空值\n",
    "print(\"Null value check:\")\n",
    "print(df.isnull().sum())\n",
    "\n",
    "# 检查俄语注释长度分布\n",
    "import matplotlib.pyplot as plt\n",
    "df['comment_ru'].str.len().hist()\n",
    "plt.title(\"Russian comment length distribution\")\n",
    "plt.show()"
   ]
  },
  {
   "cell_type": "code",
   "execution_count": 25,
   "metadata": {},
   "outputs": [
    {
     "name": "stdout",
     "output_type": "stream",
     "text": [
      "原始数据集样本数: 1258\n",
      "列名: ['file_path', 'code', 'code_comment_type', 'comment_zh', 'comment_ru', 'comment_en', 'input_text', 'target_text']\n",
      "首样本中文注释: 用于两个样本分位数的自助法t检验\n",
      "首样本俄语注释: t-тест самообслуживания для двух квартилей выборки\n"
     ]
    }
   ],
   "source": [
    "# 在数据预处理前添加\n",
    "print(\"原始数据集样本数:\", len(dataset[\"train\"]))\n",
    "print(\"列名:\", dataset[\"train\"].column_names)\n",
    "print(\"首样本中文注释:\", dataset[\"train\"][0][\"comment_zh\"])\n",
    "print(\"首样本俄语注释:\", dataset[\"train\"][0][\"comment_ru\"])"
   ]
  },
  {
   "cell_type": "code",
   "execution_count": 26,
   "metadata": {},
   "outputs": [
    {
     "name": "stderr",
     "output_type": "stream",
     "text": [
      "Special tokens have been added in the vocabulary, make sure the associated word embeddings are fine-tuned or trained.\n"
     ]
    },
    {
     "data": {
      "application/vnd.jupyter.widget-view+json": {
       "model_id": "9082de689f1945f9b33f7d235c7e18d1",
       "version_major": 2,
       "version_minor": 0
      },
      "text/plain": [
       "Filter (num_proc=8):   0%|          | 0/1258 [00:00<?, ? examples/s]"
      ]
     },
     "metadata": {},
     "output_type": "display_data"
    }
   ],
   "source": [
    "# ========== 4. 数据预处理 ==========\n",
    "\n",
    "# 加载分词器\n",
    "tokenizer = T5Tokenizer.from_pretrained(\"utrobinmv/t5_translate_en_ru_zh_small_1024\")\n",
    "\n",
    "# 增强过滤函数\n",
    "def filter_invalid_data(example):\n",
    "    try:\n",
    "        # 基础有效性检查\n",
    "        valid = (\n",
    "            len(example['comment_zh']) >= 3 and\n",
    "            len(example['comment_ru']) >= 3 and\n",
    "            not example['comment_zh'].isspace() and\n",
    "            not example['comment_ru'].isspace()\n",
    "        )\n",
    "        return valid\n",
    "    except:\n",
    "        return False\n",
    "\n",
    "# 应用过滤\n",
    "dataset = dataset.filter(filter_invalid_data, num_proc=os.cpu_count())\n",
    "\n",
    "# 数据集划分\n",
    "dataset = dataset['train'].train_test_split(test_size=0.2, seed=42)"
   ]
  },
  {
   "cell_type": "code",
   "execution_count": null,
   "metadata": {},
   "outputs": [
    {
     "name": "stderr",
     "output_type": "stream",
     "text": [
      "Special tokens have been added in the vocabulary, make sure the associated word embeddings are fine-tuned or trained.\n"
     ]
    }
   ],
   "source": [
    "# # ========== 4. 数据预处理 ==========\n",
    "\n",
    "# # 加载分词器\n",
    "# tokenizer = T5Tokenizer.from_pretrained(\"utrobinmv/t5_translate_en_ru_zh_small_1024\")\n",
    "\n",
    "# # 增强数据过滤\n",
    "# def filter_invalid_data(example):\n",
    "#     try:\n",
    "#         # Token长度预估\n",
    "#         zh_tokens = tokenizer.tokenize(example[\"comment_zh\"])\n",
    "#         ru_tokens = tokenizer.tokenize(example[\"comment_ru\"])\n",
    "        \n",
    "#         # 内容有效性检查\n",
    "#         return (\n",
    "#             len(zh_tokens) <= 256 and\n",
    "#             len(ru_tokens) <= 256 and\n",
    "#             tokenizer.unk_token not in zh_tokens and\n",
    "#             tokenizer.unk_token not in ru_tokens\n",
    "#         )\n",
    "#     except:\n",
    "#         return False\n",
    "\n",
    "# # 应用过滤\n",
    "# dataset = dataset.filter(filter_invalid_data, num_proc=4)\n",
    "\n",
    "# # 数据集划分\n",
    "# dataset = dataset[\"train\"].train_test_split(test_size=0.2, seed=42)"
   ]
  },
  {
   "cell_type": "code",
   "execution_count": 27,
   "metadata": {},
   "outputs": [
    {
     "data": {
      "application/vnd.jupyter.widget-view+json": {
       "model_id": "25d7e8406f6548b496674586d3a9e20b",
       "version_major": 2,
       "version_minor": 0
      },
      "text/plain": [
       "Map (num_proc=4):   0%|          | 0/996 [00:00<?, ? examples/s]"
      ]
     },
     "metadata": {},
     "output_type": "display_data"
    },
    {
     "data": {
      "application/vnd.jupyter.widget-view+json": {
       "model_id": "bb6be4e635304b35916894767f60f8db",
       "version_major": 2,
       "version_minor": 0
      },
      "text/plain": [
       "Map (num_proc=4):   0%|          | 0/250 [00:00<?, ? examples/s]"
      ]
     },
     "metadata": {},
     "output_type": "display_data"
    },
    {
     "data": {
      "application/vnd.jupyter.widget-view+json": {
       "model_id": "ad2967a9d18f4892b934116f31ad7def",
       "version_major": 2,
       "version_minor": 0
      },
      "text/plain": [
       "Filter:   0%|          | 0/996 [00:00<?, ? examples/s]"
      ]
     },
     "metadata": {},
     "output_type": "display_data"
    },
    {
     "data": {
      "application/vnd.jupyter.widget-view+json": {
       "model_id": "5b5cd199290a4005bb3f5a23048cbc90",
       "version_major": 2,
       "version_minor": 0
      },
      "text/plain": [
       "Filter:   0%|          | 0/250 [00:00<?, ? examples/s]"
      ]
     },
     "metadata": {},
     "output_type": "display_data"
    }
   ],
   "source": [
    "# ========== 5. 数据预处理函数 ==========\n",
    "\n",
    "max_input_length = 256\n",
    "max_target_length = 256\n",
    "\n",
    "def safe_preprocess(examples, tokenizer):\n",
    "    \"\"\"带错误处理的预处理函数\"\"\"\n",
    "    try:\n",
    "        # 输入处理（中文）\n",
    "        inputs = tokenizer(\n",
    "            examples[\"input_text\"],\n",
    "            max_length=max_input_length,\n",
    "            truncation=True,\n",
    "            padding=\"max_length\",\n",
    "            return_tensors=\"pt\",\n",
    "            add_special_tokens=True\n",
    "        )\n",
    "        \n",
    "        # 标签处理（俄语）\n",
    "        with tokenizer.as_target_tokenizer():\n",
    "            labels = tokenizer(\n",
    "                text_target=examples[\"target_text\"],\n",
    "                max_length=max_target_length,\n",
    "                truncation=True,\n",
    "                padding=\"max_length\",\n",
    "                return_tensors=\"pt\",\n",
    "                add_special_tokens=True\n",
    "            )\n",
    "        \n",
    "        # 验证数据有效性\n",
    "        input_ids = inputs[\"input_ids\"].flatten().tolist()\n",
    "        label_ids = labels[\"input_ids\"].flatten().tolist()\n",
    "        \n",
    "        valid_input = all(0 <= i < tokenizer.vocab_size for i in input_ids)\n",
    "        valid_label = all(0 <= i < tokenizer.vocab_size for i in label_ids)\n",
    "        no_unk = tokenizer.unk_token_id not in input_ids + label_ids\n",
    "        \n",
    "        if valid_input and valid_label and no_unk:\n",
    "            return {\n",
    "                \"input_ids\": inputs[\"input_ids\"].squeeze(),\n",
    "                \"attention_mask\": inputs[\"attention_mask\"].squeeze(),\n",
    "                \"labels\": labels[\"input_ids\"].squeeze()\n",
    "            }\n",
    "        return None\n",
    "            \n",
    "    except Exception as e:\n",
    "        print(f\"预处理异常：{str(e)}\")\n",
    "        return None\n",
    "\n",
    "# 应用预处理\n",
    "tokenized_datasets = dataset.map(\n",
    "    partial(safe_preprocess, tokenizer=tokenizer),\n",
    "    batched=True,\n",
    "    batch_size=32,\n",
    "    num_proc=min(4, os.cpu_count()),\n",
    "    remove_columns=dataset[\"train\"].column_names,\n",
    "    load_from_cache_file=False\n",
    ")\n",
    "\n",
    "# 过滤无效样本\n",
    "tokenized_datasets = tokenized_datasets.filter(lambda x: x is not None)"
   ]
  },
  {
   "cell_type": "code",
   "execution_count": 30,
   "metadata": {},
   "outputs": [
    {
     "data": {
      "text/plain": [
       "DatasetDict({\n",
       "    train: Dataset({\n",
       "        features: ['file_path', 'code', 'code_comment_type', 'comment_zh', 'comment_ru', 'comment_en', 'input_text', 'target_text'],\n",
       "        num_rows: 996\n",
       "    })\n",
       "    test: Dataset({\n",
       "        features: ['file_path', 'code', 'code_comment_type', 'comment_zh', 'comment_ru', 'comment_en', 'input_text', 'target_text'],\n",
       "        num_rows: 250\n",
       "    })\n",
       "})"
      ]
     },
     "execution_count": 30,
     "metadata": {},
     "output_type": "execute_result"
    }
   ],
   "source": [
    "tokenized_datasets"
   ]
  },
  {
   "cell_type": "code",
   "execution_count": 29,
   "metadata": {},
   "outputs": [
    {
     "name": "stdout",
     "output_type": "stream",
     "text": [
      "\n",
      "数据集特征: {'file_path': Value(dtype='string', id=None), 'code': Value(dtype='string', id=None), 'code_comment_type': Value(dtype='string', id=None), 'comment_zh': Value(dtype='string', id=None), 'comment_ru': Value(dtype='string', id=None), 'comment_en': Value(dtype='string', id=None), 'input_text': Value(dtype='string', id=None), 'target_text': Value(dtype='string', id=None)}\n",
      "\n",
      "预处理验证：\n",
      "错误：缺少input_ids字段\n",
      "错误：缺少labels字段\n",
      "错误：input_ids字段不存在\n"
     ]
    }
   ],
   "source": [
    "# ========== 6. 数据验证 ==========\n",
    "def validate_data():\n",
    "    assert len(tokenized_datasets[\"train\"]) > 0, \"训练集为空，请检查数据过滤条件！\"\n",
    "    \n",
    "    # 检查数据集特征\n",
    "    print(\"\\n数据集特征:\", tokenized_datasets[\"train\"].features)\n",
    "    \n",
    "    # 样本检查\n",
    "    sample = tokenized_datasets[\"train\"][0]\n",
    "    print(\"\\n预处理验证：\")\n",
    "    \n",
    "    # 安全访问字段\n",
    "    if 'input_ids' in sample:\n",
    "        print(\"输入文本:\", tokenizer.decode(sample[\"input_ids\"], skip_special_tokens=True))\n",
    "    else:\n",
    "        print(\"错误：缺少input_ids字段\")\n",
    "    \n",
    "    if 'labels' in sample:\n",
    "        print(\"标签文本:\", tokenizer.decode(sample[\"labels\"], skip_special_tokens=True))\n",
    "    else:\n",
    "        print(\"错误：缺少labels字段\")\n",
    "    \n",
    "    # 统计检查\n",
    "    if 'input_ids' in tokenized_datasets[\"train\"].features:\n",
    "        input_lens = [len(x[\"input_ids\"]) for x in tokenized_datasets[\"train\"]]\n",
    "        print(f\"\\n数据集统计：\")\n",
    "        print(f\"训练样本: {len(tokenized_datasets['train'])}\")\n",
    "        print(f\"验证样本: {len(tokenized_datasets['test'])}\")\n",
    "        print(f\"平均长度: {np.mean(input_lens):.1f} ± {np.std(input_lens):.1f} tokens\")\n",
    "    else:\n",
    "        print(\"错误：input_ids字段不存在\")\n",
    "\n",
    "validate_data()"
   ]
  },
  {
   "cell_type": "code",
   "execution_count": 28,
   "metadata": {},
   "outputs": [
    {
     "name": "stdout",
     "output_type": "stream",
     "text": [
      "\n",
      "预处理验证：\n"
     ]
    },
    {
     "ename": "KeyError",
     "evalue": "'input_ids'",
     "output_type": "error",
     "traceback": [
      "\u001b[1;31m---------------------------------------------------------------------------\u001b[0m",
      "\u001b[1;31mKeyError\u001b[0m                                  Traceback (most recent call last)",
      "Cell \u001b[1;32mIn[28], line 19\u001b[0m\n\u001b[0;32m     16\u001b[0m     \u001b[38;5;28mprint\u001b[39m(\u001b[38;5;124mf\u001b[39m\u001b[38;5;124m\"\u001b[39m\u001b[38;5;124m验证样本: \u001b[39m\u001b[38;5;132;01m{\u001b[39;00m\u001b[38;5;28mlen\u001b[39m(tokenized_datasets[\u001b[38;5;124m'\u001b[39m\u001b[38;5;124mtest\u001b[39m\u001b[38;5;124m'\u001b[39m])\u001b[38;5;132;01m}\u001b[39;00m\u001b[38;5;124m\"\u001b[39m)\n\u001b[0;32m     17\u001b[0m     \u001b[38;5;28mprint\u001b[39m(\u001b[38;5;124mf\u001b[39m\u001b[38;5;124m\"\u001b[39m\u001b[38;5;124m平均长度: \u001b[39m\u001b[38;5;132;01m{\u001b[39;00mnp\u001b[38;5;241m.\u001b[39mmean(input_lens)\u001b[38;5;132;01m:\u001b[39;00m\u001b[38;5;124m.1f\u001b[39m\u001b[38;5;132;01m}\u001b[39;00m\u001b[38;5;124m ± \u001b[39m\u001b[38;5;132;01m{\u001b[39;00mnp\u001b[38;5;241m.\u001b[39mstd(input_lens)\u001b[38;5;132;01m:\u001b[39;00m\u001b[38;5;124m.1f\u001b[39m\u001b[38;5;132;01m}\u001b[39;00m\u001b[38;5;124m tokens\u001b[39m\u001b[38;5;124m\"\u001b[39m)\n\u001b[1;32m---> 19\u001b[0m \u001b[43mvalidate_data\u001b[49m\u001b[43m(\u001b[49m\u001b[43m)\u001b[49m\n",
      "Cell \u001b[1;32mIn[28], line 9\u001b[0m, in \u001b[0;36mvalidate_data\u001b[1;34m()\u001b[0m\n\u001b[0;32m      7\u001b[0m sample \u001b[38;5;241m=\u001b[39m tokenized_datasets[\u001b[38;5;124m\"\u001b[39m\u001b[38;5;124mtrain\u001b[39m\u001b[38;5;124m\"\u001b[39m][\u001b[38;5;241m0\u001b[39m]\n\u001b[0;32m      8\u001b[0m \u001b[38;5;28mprint\u001b[39m(\u001b[38;5;124m\"\u001b[39m\u001b[38;5;130;01m\\n\u001b[39;00m\u001b[38;5;124m预处理验证：\u001b[39m\u001b[38;5;124m\"\u001b[39m)\n\u001b[1;32m----> 9\u001b[0m \u001b[38;5;28mprint\u001b[39m(\u001b[38;5;124m\"\u001b[39m\u001b[38;5;124m输入文本:\u001b[39m\u001b[38;5;124m\"\u001b[39m, tokenizer\u001b[38;5;241m.\u001b[39mdecode(\u001b[43msample\u001b[49m\u001b[43m[\u001b[49m\u001b[38;5;124;43m\"\u001b[39;49m\u001b[38;5;124;43minput_ids\u001b[39;49m\u001b[38;5;124;43m\"\u001b[39;49m\u001b[43m]\u001b[49m, skip_special_tokens\u001b[38;5;241m=\u001b[39m\u001b[38;5;28;01mTrue\u001b[39;00m))\n\u001b[0;32m     10\u001b[0m \u001b[38;5;28mprint\u001b[39m(\u001b[38;5;124m\"\u001b[39m\u001b[38;5;124m标签文本:\u001b[39m\u001b[38;5;124m\"\u001b[39m, tokenizer\u001b[38;5;241m.\u001b[39mdecode(sample[\u001b[38;5;124m\"\u001b[39m\u001b[38;5;124mlabels\u001b[39m\u001b[38;5;124m\"\u001b[39m], skip_special_tokens\u001b[38;5;241m=\u001b[39m\u001b[38;5;28;01mTrue\u001b[39;00m))\n\u001b[0;32m     12\u001b[0m \u001b[38;5;66;03m# 统计检查\u001b[39;00m\n",
      "\u001b[1;31mKeyError\u001b[0m: 'input_ids'"
     ]
    }
   ],
   "source": [
    "# ========== 6. 数据验证 ==========\n",
    "\n",
    "def validate_data():\n",
    "    assert len(tokenized_datasets[\"train\"]) > 0, \"训练集为空，请检查数据过滤条件！\"\n",
    "    \n",
    "    # 样本检查\n",
    "    sample = tokenized_datasets[\"train\"][0]\n",
    "    print(\"\\n预处理验证：\")\n",
    "    print(\"输入文本:\", tokenizer.decode(sample[\"input_ids\"], skip_special_tokens=True))\n",
    "    print(\"标签文本:\", tokenizer.decode(sample[\"labels\"], skip_special_tokens=True))\n",
    "    \n",
    "    # 统计检查\n",
    "    input_lens = [len(x[\"input_ids\"]) for x in tokenized_datasets[\"train\"]]\n",
    "    print(f\"\\n数据集统计：\")\n",
    "    print(f\"训练样本: {len(tokenized_datasets['train'])}\")\n",
    "    print(f\"验证样本: {len(tokenized_datasets['test'])}\")\n",
    "    print(f\"平均长度: {np.mean(input_lens):.1f} ± {np.std(input_lens):.1f} tokens\")\n",
    "\n",
    "validate_data()"
   ]
  },
  {
   "cell_type": "code",
   "execution_count": null,
   "metadata": {},
   "outputs": [],
   "source": [
    "# # ========== 5. 定义预处理函数 ==========\n",
    "\n",
    "# max_input_length = 256\n",
    "# max_target_length = 256\n",
    "\n",
    "# def preprocess_function(examples, tokenizer):\n",
    "#     try:\n",
    "#         # 输入处理（中文）\n",
    "#         model_inputs = tokenizer(\n",
    "#             examples[\"input_text\"],\n",
    "#             max_length=max_input_length,\n",
    "#             truncation=\"only_first\",\n",
    "#             padding=\"max_length\",\n",
    "#             add_special_tokens=True,\n",
    "#             return_tensors=\"pt\"\n",
    "#         )\n",
    "        \n",
    "#         # 标签处理（俄语）\n",
    "#         with tokenizer.as_target_tokenizer():\n",
    "#             labels = tokenizer(\n",
    "#                 text_target=examples[\"target_text\"],\n",
    "#                 max_length=max_target_length,\n",
    "#                 truncation=\"longest_first\",\n",
    "#                 padding=\"max_length\",\n",
    "#                 add_special_tokens=True,\n",
    "#                 return_tensors=\"pt\"\n",
    "#             )\n",
    "        \n",
    "#         # 双重有效性验证\n",
    "#         input_ids = model_inputs[\"input_ids\"].flatten().tolist()\n",
    "#         label_ids = labels[\"input_ids\"].flatten().tolist()\n",
    "        \n",
    "#         invalid_input = any(i >= tokenizer.vocab_size for i in input_ids)\n",
    "#         invalid_label = any(i >= tokenizer.vocab_size for i in label_ids)\n",
    "        \n",
    "#         if invalid_input or invalid_label:\n",
    "#             print(f\"过滤无效样本（输入非法token数：{sum(i >= tokenizer.vocab_size for i in input_ids)}）\")\n",
    "#             return {}\n",
    "        \n",
    "#         model_inputs[\"labels\"] = labels[\"input_ids\"]\n",
    "#         return model_inputs\n",
    "#     except Exception as e:\n",
    "#         print(f\"预处理异常：{str(e)}\")\n",
    "#         return {}\n",
    "\n",
    "# # 绑定分词器\n",
    "# preprocessor = partial(preprocess_function, tokenizer=tokenizer)\n",
    "\n",
    "# # 应用预处理\n",
    "# tokenized_datasets = dataset.map(\n",
    "#     preprocessor,\n",
    "#     batched=True,\n",
    "#     batch_size=32,\n",
    "#     num_proc=4,\n",
    "#     remove_columns=dataset[\"train\"].column_names,\n",
    "#     load_from_cache_file=False\n",
    "# )\n",
    "\n",
    "# # 过滤空数据（由异常处理产生）\n",
    "# tokenized_datasets = tokenized_datasets.filter(lambda x: len(x[\"input_ids\"]) > 0)"
   ]
  },
  {
   "cell_type": "code",
   "execution_count": 8,
   "metadata": {},
   "outputs": [],
   "source": [
    "# ========== 6. 定义评估指标 ==========\n",
    "\n",
    "scorer = rouge_scorer.RougeScorer(['rougeL'], use_stemmer=True)\n",
    "\n",
    "def compute_metrics(eval_pred):\n",
    "    predictions, labels = eval_pred\n",
    "    decoded_preds = tokenizer.batch_decode(predictions, skip_special_tokens=True)\n",
    "    \n",
    "    # 处理标签中的-100\n",
    "    labels = np.where(labels != -100, labels, tokenizer.pad_token_id)\n",
    "    decoded_labels = tokenizer.batch_decode(labels, skip_special_tokens=True)\n",
    "    \n",
    "    # 过滤空预测\n",
    "    valid_pairs = [(p, l) for p, l in zip(decoded_preds, decoded_labels) if p.strip() and l.strip()]\n",
    "    if not valid_pairs:\n",
    "        return {\"rougeL\": 0.0}\n",
    "    \n",
    "    # 计算ROUGE-L\n",
    "    scores = [scorer.score(p, l)['rougeL'].fmeasure for p, l in valid_pairs]\n",
    "    return {\"rougeL\": round(np.mean(scores), 4)}"
   ]
  },
  {
   "cell_type": "code",
   "execution_count": 9,
   "metadata": {},
   "outputs": [
    {
     "name": "stderr",
     "output_type": "stream",
     "text": [
      "c:\\Python310\\lib\\site-packages\\transformers\\training_args.py:1474: FutureWarning: `evaluation_strategy` is deprecated and will be removed in version 4.46 of 🤗 Transformers. Use `eval_strategy` instead\n",
      "  warnings.warn(\n",
      "c:\\Python310\\lib\\site-packages\\transformers\\training_args.py:1489: FutureWarning: using `no_cuda` is deprecated and will be removed in version 5.0 of 🤗 Transformers. Use `use_cpu` instead\n",
      "  warnings.warn(\n"
     ]
    }
   ],
   "source": [
    "# ========== 7. 训练配置 ==========\n",
    "\n",
    "training_args = Seq2SeqTrainingArguments(\n",
    "    output_dir=\"./t5-translate-finetuned\",\n",
    "    evaluation_strategy=\"epoch\",\n",
    "    save_strategy=\"epoch\",\n",
    "    learning_rate=3e-5,\n",
    "    per_device_train_batch_size=4,\n",
    "    per_device_eval_batch_size=4,\n",
    "    gradient_accumulation_steps=2,\n",
    "    num_train_epochs=5,\n",
    "    weight_decay=0.01,\n",
    "    predict_with_generate=True,\n",
    "    fp16=False,\n",
    "    logging_steps=100,\n",
    "    load_best_model_at_end=True,\n",
    "    metric_for_best_model=\"rougeL\",\n",
    "    greater_is_better=True,\n",
    "    report_to=\"none\",\n",
    "    dataloader_num_workers=0,\n",
    "    no_cuda=True,\n",
    "    optim=\"adamw_torch\", # 稳定性优化参数\n",
    "    gradient_checkpointing=False,\n",
    "    dataloader_drop_last=True\n",
    ")"
   ]
  },
  {
   "cell_type": "code",
   "execution_count": 10,
   "metadata": {},
   "outputs": [],
   "source": [
    "# ========== 8. 安全回调 ==========\n",
    "\n",
    "class EnhancedSafetyCallback(TrainerCallback):\n",
    "    def on_step_end(self, args, state, control, **kwargs):\n",
    "        try:\n",
    "            inputs = kwargs.get(\"inputs\", {})\n",
    "            \n",
    "            # 检查所有ID范围\n",
    "            for key in [\"input_ids\", \"labels\"]:\n",
    "                if key in inputs:\n",
    "                    ids = inputs[key].cpu().numpy().flatten()\n",
    "                    invalid_ids = ids[ids >= tokenizer.vocab_size]\n",
    "                    \n",
    "                    if len(invalid_ids) > 0:\n",
    "                        print(f\"\\n[安全拦截] 检测到非法{key} ID: {invalid_ids[:5]}\")\n",
    "                        print(\"建议操作：\")\n",
    "                        print(\"1. 检查预处理过滤条件\")\n",
    "                        print(\"2. 查看相关样本数据\")\n",
    "                        \n",
    "                        # 跳过当前batch但不停止训练\n",
    "                        control.should_training_stop = False\n",
    "                        control.should_log = False\n",
    "                        return\n",
    "        except Exception as e:\n",
    "            print(f\"安全检查异常: {str(e)}\")"
   ]
  },
  {
   "cell_type": "code",
   "execution_count": 11,
   "metadata": {},
   "outputs": [],
   "source": [
    "# ========== 9. 创建Trainer ==========\n",
    "\n",
    "model = T5ForConditionalGeneration.from_pretrained(\"utrobinmv/t5_translate_en_ru_zh_small_1024\")\n",
    "\n",
    "trainer = Seq2SeqTrainer(\n",
    "    model=model,\n",
    "    args=training_args,\n",
    "    train_dataset=tokenized_datasets[\"train\"],\n",
    "    eval_dataset=tokenized_datasets[\"test\"],\n",
    "    compute_metrics=compute_metrics,\n",
    "    callbacks=[EnhancedSafetyCallback()]\n",
    ")"
   ]
  },
  {
   "cell_type": "code",
   "execution_count": 12,
   "metadata": {},
   "outputs": [
    {
     "ename": "IndexError",
     "evalue": "Invalid key: 0 is out of bounds for size 0",
     "output_type": "error",
     "traceback": [
      "\u001b[1;31m---------------------------------------------------------------------------\u001b[0m",
      "\u001b[1;31mIndexError\u001b[0m                                Traceback (most recent call last)",
      "Cell \u001b[1;32mIn[12], line 17\u001b[0m\n\u001b[0;32m     14\u001b[0m     \u001b[38;5;28mprint\u001b[39m(\u001b[38;5;124mf\u001b[39m\u001b[38;5;124m\"\u001b[39m\u001b[38;5;124m平均输入长度: \u001b[39m\u001b[38;5;132;01m{\u001b[39;00mnp\u001b[38;5;241m.\u001b[39mmean(input_lens)\u001b[38;5;132;01m:\u001b[39;00m\u001b[38;5;124m.1f\u001b[39m\u001b[38;5;132;01m}\u001b[39;00m\u001b[38;5;124m tokens\u001b[39m\u001b[38;5;124m\"\u001b[39m)\n\u001b[0;32m     15\u001b[0m     \u001b[38;5;28mprint\u001b[39m(\u001b[38;5;124mf\u001b[39m\u001b[38;5;124m\"\u001b[39m\u001b[38;5;124m最大输入长度: \u001b[39m\u001b[38;5;132;01m{\u001b[39;00m\u001b[38;5;28mmax\u001b[39m(input_lens)\u001b[38;5;132;01m}\u001b[39;00m\u001b[38;5;124m tokens\u001b[39m\u001b[38;5;124m\"\u001b[39m)\n\u001b[1;32m---> 17\u001b[0m \u001b[43mvalidate_preprocessing\u001b[49m\u001b[43m(\u001b[49m\u001b[43m)\u001b[49m\n",
      "Cell \u001b[1;32mIn[12], line 5\u001b[0m, in \u001b[0;36mvalidate_preprocessing\u001b[1;34m()\u001b[0m\n\u001b[0;32m      3\u001b[0m \u001b[38;5;28;01mdef\u001b[39;00m \u001b[38;5;21mvalidate_preprocessing\u001b[39m():\n\u001b[0;32m      4\u001b[0m     \u001b[38;5;66;03m# 检查样本格式\u001b[39;00m\n\u001b[1;32m----> 5\u001b[0m     sample \u001b[38;5;241m=\u001b[39m \u001b[43mtokenized_datasets\u001b[49m\u001b[43m[\u001b[49m\u001b[38;5;124;43m\"\u001b[39;49m\u001b[38;5;124;43mtrain\u001b[39;49m\u001b[38;5;124;43m\"\u001b[39;49m\u001b[43m]\u001b[49m\u001b[43m[\u001b[49m\u001b[38;5;241;43m0\u001b[39;49m\u001b[43m]\u001b[49m\n\u001b[0;32m      6\u001b[0m     \u001b[38;5;28mprint\u001b[39m(\u001b[38;5;124m\"\u001b[39m\u001b[38;5;130;01m\\n\u001b[39;00m\u001b[38;5;124m预处理验证：\u001b[39m\u001b[38;5;124m\"\u001b[39m)\n\u001b[0;32m      7\u001b[0m     \u001b[38;5;28mprint\u001b[39m(\u001b[38;5;124m\"\u001b[39m\u001b[38;5;124m输入文本:\u001b[39m\u001b[38;5;124m\"\u001b[39m, tokenizer\u001b[38;5;241m.\u001b[39mdecode(sample[\u001b[38;5;124m\"\u001b[39m\u001b[38;5;124minput_ids\u001b[39m\u001b[38;5;124m\"\u001b[39m], skip_special_tokens\u001b[38;5;241m=\u001b[39m\u001b[38;5;28;01mTrue\u001b[39;00m))\n",
      "File \u001b[1;32m~\\AppData\\Roaming\\Python\\Python310\\site-packages\\datasets\\arrow_dataset.py:2780\u001b[0m, in \u001b[0;36mDataset.__getitem__\u001b[1;34m(self, key)\u001b[0m\n\u001b[0;32m   2778\u001b[0m \u001b[38;5;28;01mdef\u001b[39;00m \u001b[38;5;21m__getitem__\u001b[39m(\u001b[38;5;28mself\u001b[39m, key):  \u001b[38;5;66;03m# noqa: F811\u001b[39;00m\n\u001b[0;32m   2779\u001b[0m \u001b[38;5;250m    \u001b[39m\u001b[38;5;124;03m\"\"\"Can be used to index columns (by string names) or rows (by integer index or iterable of indices or bools).\"\"\"\u001b[39;00m\n\u001b[1;32m-> 2780\u001b[0m     \u001b[38;5;28;01mreturn\u001b[39;00m \u001b[38;5;28;43mself\u001b[39;49m\u001b[38;5;241;43m.\u001b[39;49m\u001b[43m_getitem\u001b[49m\u001b[43m(\u001b[49m\u001b[43mkey\u001b[49m\u001b[43m)\u001b[49m\n",
      "File \u001b[1;32m~\\AppData\\Roaming\\Python\\Python310\\site-packages\\datasets\\arrow_dataset.py:2764\u001b[0m, in \u001b[0;36mDataset._getitem\u001b[1;34m(self, key, **kwargs)\u001b[0m\n\u001b[0;32m   2762\u001b[0m format_kwargs \u001b[38;5;241m=\u001b[39m format_kwargs \u001b[38;5;28;01mif\u001b[39;00m format_kwargs \u001b[38;5;129;01mis\u001b[39;00m \u001b[38;5;129;01mnot\u001b[39;00m \u001b[38;5;28;01mNone\u001b[39;00m \u001b[38;5;28;01melse\u001b[39;00m {}\n\u001b[0;32m   2763\u001b[0m formatter \u001b[38;5;241m=\u001b[39m get_formatter(format_type, features\u001b[38;5;241m=\u001b[39m\u001b[38;5;28mself\u001b[39m\u001b[38;5;241m.\u001b[39m_info\u001b[38;5;241m.\u001b[39mfeatures, \u001b[38;5;241m*\u001b[39m\u001b[38;5;241m*\u001b[39mformat_kwargs)\n\u001b[1;32m-> 2764\u001b[0m pa_subtable \u001b[38;5;241m=\u001b[39m \u001b[43mquery_table\u001b[49m\u001b[43m(\u001b[49m\u001b[38;5;28;43mself\u001b[39;49m\u001b[38;5;241;43m.\u001b[39;49m\u001b[43m_data\u001b[49m\u001b[43m,\u001b[49m\u001b[43m \u001b[49m\u001b[43mkey\u001b[49m\u001b[43m,\u001b[49m\u001b[43m \u001b[49m\u001b[43mindices\u001b[49m\u001b[38;5;241;43m=\u001b[39;49m\u001b[38;5;28;43mself\u001b[39;49m\u001b[38;5;241;43m.\u001b[39;49m\u001b[43m_indices\u001b[49m\u001b[43m)\u001b[49m\n\u001b[0;32m   2765\u001b[0m formatted_output \u001b[38;5;241m=\u001b[39m format_table(\n\u001b[0;32m   2766\u001b[0m     pa_subtable, key, formatter\u001b[38;5;241m=\u001b[39mformatter, format_columns\u001b[38;5;241m=\u001b[39mformat_columns, output_all_columns\u001b[38;5;241m=\u001b[39moutput_all_columns\n\u001b[0;32m   2767\u001b[0m )\n\u001b[0;32m   2768\u001b[0m \u001b[38;5;28;01mreturn\u001b[39;00m formatted_output\n",
      "File \u001b[1;32m~\\AppData\\Roaming\\Python\\Python310\\site-packages\\datasets\\formatting\\formatting.py:593\u001b[0m, in \u001b[0;36mquery_table\u001b[1;34m(table, key, indices)\u001b[0m\n\u001b[0;32m    591\u001b[0m \u001b[38;5;28;01melse\u001b[39;00m:\n\u001b[0;32m    592\u001b[0m     size \u001b[38;5;241m=\u001b[39m indices\u001b[38;5;241m.\u001b[39mnum_rows \u001b[38;5;28;01mif\u001b[39;00m indices \u001b[38;5;129;01mis\u001b[39;00m \u001b[38;5;129;01mnot\u001b[39;00m \u001b[38;5;28;01mNone\u001b[39;00m \u001b[38;5;28;01melse\u001b[39;00m table\u001b[38;5;241m.\u001b[39mnum_rows\n\u001b[1;32m--> 593\u001b[0m     \u001b[43m_check_valid_index_key\u001b[49m\u001b[43m(\u001b[49m\u001b[43mkey\u001b[49m\u001b[43m,\u001b[49m\u001b[43m \u001b[49m\u001b[43msize\u001b[49m\u001b[43m)\u001b[49m\n\u001b[0;32m    594\u001b[0m \u001b[38;5;66;03m# Query the main table\u001b[39;00m\n\u001b[0;32m    595\u001b[0m \u001b[38;5;28;01mif\u001b[39;00m indices \u001b[38;5;129;01mis\u001b[39;00m \u001b[38;5;28;01mNone\u001b[39;00m:\n",
      "File \u001b[1;32m~\\AppData\\Roaming\\Python\\Python310\\site-packages\\datasets\\formatting\\formatting.py:533\u001b[0m, in \u001b[0;36m_check_valid_index_key\u001b[1;34m(key, size)\u001b[0m\n\u001b[0;32m    531\u001b[0m \u001b[38;5;28;01mif\u001b[39;00m \u001b[38;5;28misinstance\u001b[39m(key, \u001b[38;5;28mint\u001b[39m):\n\u001b[0;32m    532\u001b[0m     \u001b[38;5;28;01mif\u001b[39;00m (key \u001b[38;5;241m<\u001b[39m \u001b[38;5;241m0\u001b[39m \u001b[38;5;129;01mand\u001b[39;00m key \u001b[38;5;241m+\u001b[39m size \u001b[38;5;241m<\u001b[39m \u001b[38;5;241m0\u001b[39m) \u001b[38;5;129;01mor\u001b[39;00m (key \u001b[38;5;241m>\u001b[39m\u001b[38;5;241m=\u001b[39m size):\n\u001b[1;32m--> 533\u001b[0m         \u001b[38;5;28;01mraise\u001b[39;00m \u001b[38;5;167;01mIndexError\u001b[39;00m(\u001b[38;5;124mf\u001b[39m\u001b[38;5;124m\"\u001b[39m\u001b[38;5;124mInvalid key: \u001b[39m\u001b[38;5;132;01m{\u001b[39;00mkey\u001b[38;5;132;01m}\u001b[39;00m\u001b[38;5;124m is out of bounds for size \u001b[39m\u001b[38;5;132;01m{\u001b[39;00msize\u001b[38;5;132;01m}\u001b[39;00m\u001b[38;5;124m\"\u001b[39m)\n\u001b[0;32m    534\u001b[0m     \u001b[38;5;28;01mreturn\u001b[39;00m\n\u001b[0;32m    535\u001b[0m \u001b[38;5;28;01melif\u001b[39;00m \u001b[38;5;28misinstance\u001b[39m(key, \u001b[38;5;28mslice\u001b[39m):\n",
      "\u001b[1;31mIndexError\u001b[0m: Invalid key: 0 is out of bounds for size 0"
     ]
    }
   ],
   "source": [
    "# ========== 10. 验证数据质量 ==========\n",
    "\n",
    "def validate_preprocessing():\n",
    "    # 检查样本格式\n",
    "    sample = tokenized_datasets[\"train\"][0]\n",
    "    print(\"\\n预处理验证：\")\n",
    "    print(\"输入文本:\", tokenizer.decode(sample[\"input_ids\"], skip_special_tokens=True))\n",
    "    print(\"标签文本:\", tokenizer.decode(sample[\"labels\"], skip_special_tokens=True))\n",
    "    \n",
    "    # 统计信息\n",
    "    input_lens = [len(x[\"input_ids\"]) for x in tokenized_datasets[\"train\"]]\n",
    "    print(f\"\\n数据集统计：\")\n",
    "    print(f\"总样本数: {len(tokenized_datasets['train'])}\")\n",
    "    print(f\"平均输入长度: {np.mean(input_lens):.1f} tokens\")\n",
    "    print(f\"最大输入长度: {max(input_lens)} tokens\")\n",
    "\n",
    "validate_preprocessing()"
   ]
  },
  {
   "cell_type": "code",
   "execution_count": null,
   "metadata": {},
   "outputs": [],
   "source": []
  },
  {
   "cell_type": "code",
   "execution_count": null,
   "metadata": {},
   "outputs": [],
   "source": []
  }
 ],
 "metadata": {
  "kernelspec": {
   "display_name": "Python 3",
   "language": "python",
   "name": "python3"
  },
  "language_info": {
   "codemirror_mode": {
    "name": "ipython",
    "version": 3
   },
   "file_extension": ".py",
   "mimetype": "text/x-python",
   "name": "python",
   "nbconvert_exporter": "python",
   "pygments_lexer": "ipython3",
   "version": "3.10.1"
  }
 },
 "nbformat": 4,
 "nbformat_minor": 2
}
